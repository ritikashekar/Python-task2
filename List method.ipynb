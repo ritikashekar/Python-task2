{
 "cells": [
  {
   "cell_type": "code",
   "execution_count": 19,
   "id": "f0504f79-9f9d-4c1b-9ec3-4b38289cf1b5",
   "metadata": {},
   "outputs": [
    {
     "name": "stdout",
     "output_type": "stream",
     "text": [
      "['Red', 'White', 'Black', 'Orange']\n"
     ]
    }
   ],
   "source": [
    "# append()\n",
    "\n",
    "colors = ['Red', 'White', 'Black']\n",
    "colors.append(\"Orange\")\n",
    "print (colors)"
   ]
  },
  {
   "cell_type": "code",
   "execution_count": 21,
   "id": "cc0da006-9233-41df-aa74-6db19e9c531a",
   "metadata": {},
   "outputs": [
    {
     "name": "stdout",
     "output_type": "stream",
     "text": [
      "[]\n"
     ]
    }
   ],
   "source": [
    "# clear()\n",
    "\n",
    "colors = ['Red', 'White', 'Black']\n",
    "colors.clear()\n",
    "print (colors)"
   ]
  },
  {
   "cell_type": "code",
   "execution_count": 27,
   "id": "0c175bb5-f6d6-4c63-9777-c81719287d9d",
   "metadata": {},
   "outputs": [
    {
     "name": "stdout",
     "output_type": "stream",
     "text": [
      "['Red', 'White', 'Black']\n"
     ]
    }
   ],
   "source": [
    "# copy()\n",
    "\n",
    "colors = ['Red', 'White', 'Black']\n",
    "x = colors.copy()\n",
    "print (x)"
   ]
  },
  {
   "cell_type": "code",
   "execution_count": 61,
   "id": "e74f058b-fe55-4d71-bf29-cd1874e55951",
   "metadata": {},
   "outputs": [
    {
     "name": "stdout",
     "output_type": "stream",
     "text": [
      "['Red', 'White', 'Red', 'Black']\n"
     ]
    }
   ],
   "source": [
    "# count()\n",
    "\n",
    "colors = ['Red', 'White', 'Red', 'Black']\n",
    "colors.count(\"Red\")\n",
    "print (colors)"
   ]
  },
  {
   "cell_type": "code",
   "execution_count": 59,
   "id": "e862f0d6-c6ef-4115-8c44-583ed3197010",
   "metadata": {},
   "outputs": [
    {
     "name": "stdout",
     "output_type": "stream",
     "text": [
      "['Red', 'White', 'Black', 1, 2, 3]\n"
     ]
    }
   ],
   "source": [
    "# extend()\n",
    "\n",
    "colors = ['Red', 'White', 'Black']\n",
    "points = [1, 2, 3]\n",
    "\n",
    "colors.extend(points)\n",
    "print(colors)\n"
   ]
  },
  {
   "cell_type": "code",
   "execution_count": 73,
   "id": "22ef0443-4b29-4ca4-90ea-a390458db383",
   "metadata": {},
   "outputs": [
    {
     "data": {
      "text/plain": [
       "2"
      ]
     },
     "execution_count": 73,
     "metadata": {},
     "output_type": "execute_result"
    }
   ],
   "source": [
    "# index()\n",
    "\n",
    "colors = ['Red', 'White', 'Black', 'Orange']\n",
    "colors.index('Black')"
   ]
  },
  {
   "cell_type": "code",
   "execution_count": 79,
   "id": "a8610da1-cc09-494d-8f5b-8ce731e93319",
   "metadata": {},
   "outputs": [
    {
     "name": "stdout",
     "output_type": "stream",
     "text": [
      "['Red', 'White', 'Black', 'Yellow']\n"
     ]
    }
   ],
   "source": [
    "# insert()\n",
    "\n",
    "colors = ['Red', 'White', 'Black']\n",
    "colors.insert(3, 'Yellow')\n",
    "print (colors)"
   ]
  },
  {
   "cell_type": "code",
   "execution_count": 119,
   "id": "02a36e73-a696-4b8e-86e8-b06de76a73a0",
   "metadata": {},
   "outputs": [
    {
     "name": "stdout",
     "output_type": "stream",
     "text": [
      "['Red', 'Black']\n",
      "White\n"
     ]
    }
   ],
   "source": [
    "## pop()  {remove the second element of the color list}\n",
    "\n",
    "\n",
    "colors = ['Red', 'White', 'Black']\n",
    "colors.pop(1)\n",
    "print (colors)\n",
    "\n",
    "# return the removed element\n",
    "colors = ['Red', 'White', 'Black']\n",
    "x = colors.pop(1)\n",
    "print (x)"
   ]
  },
  {
   "cell_type": "code",
   "execution_count": 113,
   "id": "01dd5cf8-5d64-4acd-b872-6be0a40543fc",
   "metadata": {},
   "outputs": [
    {
     "name": "stdout",
     "output_type": "stream",
     "text": [
      "['Red', 'White']\n"
     ]
    }
   ],
   "source": [
    "# remove()   \n",
    "\n",
    "colors = ['Red', 'White', 'Black']\n",
    "colors.remove('Black')\n",
    "print (colors)"
   ]
  },
  {
   "cell_type": "code",
   "execution_count": 97,
   "id": "6413def3-31fa-4f64-8320-e985ae727aa7",
   "metadata": {},
   "outputs": [
    {
     "name": "stdout",
     "output_type": "stream",
     "text": [
      "['Orange', 'Black', 'White', 'Red']\n"
     ]
    }
   ],
   "source": [
    "# reverse()\n",
    "\n",
    "colors = ['Red', 'White', 'Black', 'Orange']\n",
    "colors.reverse()\n",
    "print (colors)"
   ]
  },
  {
   "cell_type": "code",
   "execution_count": 121,
   "id": "0537df97-03ef-4fcd-9b74-1c6421377a07",
   "metadata": {},
   "outputs": [
    {
     "name": "stdout",
     "output_type": "stream",
     "text": [
      "['Black', 'Green', 'Orange', 'Red', 'White']\n",
      "['White', 'Red', 'Orange', 'Green', 'Black']\n"
     ]
    }
   ],
   "source": [
    "## sort()  {Sort the list alphabetically}\n",
    "\n",
    "colors = ['Red', 'White', 'Black', 'Orange', 'Green']\n",
    "colors.sort()\n",
    "print (colors)\n",
    "\n",
    "# Sort the list descending\n",
    "colors = ['Red', 'White', 'Black', 'Orange', 'Green']\n",
    "colors.sort(reverse=True)\n",
    "print (colors)"
   ]
  }
 ],
 "metadata": {
  "kernelspec": {
   "display_name": "Python 3 (ipykernel)",
   "language": "python",
   "name": "python3"
  },
  "language_info": {
   "codemirror_mode": {
    "name": "ipython",
    "version": 3
   },
   "file_extension": ".py",
   "mimetype": "text/x-python",
   "name": "python",
   "nbconvert_exporter": "python",
   "pygments_lexer": "ipython3",
   "version": "3.11.7"
  }
 },
 "nbformat": 4,
 "nbformat_minor": 5
}
